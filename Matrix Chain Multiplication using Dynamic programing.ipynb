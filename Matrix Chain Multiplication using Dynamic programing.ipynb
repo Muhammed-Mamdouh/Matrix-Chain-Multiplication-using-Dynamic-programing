{
 "cells": [
  {
   "cell_type": "code",
   "execution_count": 1,
   "metadata": {},
   "outputs": [],
   "source": [
    "import numpy as np\n",
    "import pandas as pd"
   ]
  },
  {
   "cell_type": "code",
   "execution_count": 12,
   "metadata": {},
   "outputs": [],
   "source": [
    "#Generate table of Solutions\n",
    "def M(p,table=None,i=0,j=None):\n",
    "    n=len(p)-1\n",
    "    if i==j:\n",
    "        table[i,j]=(0,0)\n",
    "        return 0\n",
    "    if table[i,j]:\n",
    "        return table[i,j][0]\n",
    "    mini=10**10\n",
    "    best_k=10**10\n",
    "    for k in range(i,j):\n",
    "        Mik=M(p,table,i=i,j=k)\n",
    "        Mkj=M(p,table,i=k+1,j=j)\n",
    "        mul=Mik+Mkj+p[i]*p[j+1]*p[k+1]\n",
    "        if mul<mini:\n",
    "            mini=mul\n",
    "            best_k=k   \n",
    "    table[i,j]=(mini,best_k+1)\n",
    "    return mini"
   ]
  },
  {
   "cell_type": "code",
   "execution_count": null,
   "metadata": {},
   "outputs": [],
   "source": []
  },
  {
   "cell_type": "code",
   "execution_count": 13,
   "metadata": {},
   "outputs": [],
   "source": [
    "#print a representation of he answer\n",
    "def get_brackets(df,s=1,e=None):\n",
    "    if abs(e-s)==1:\n",
    "        return \"({} x {})\".format(s,e)\n",
    "    elif s==e:\n",
    "        return s\n",
    "    spliter=df.loc[s,e][1]\n",
    "    first_half = get_brackets(df,s,spliter)\n",
    "    second_half = get_brackets(df,spliter+1,e)\n",
    "    return \"({} x {})\".format(first_half,second_half)"
   ]
  },
  {
   "cell_type": "code",
   "execution_count": 14,
   "metadata": {},
   "outputs": [],
   "source": [
    "#putting all together\n",
    "def Mat_chain_multi(dimensions_list=None):\n",
    "    \n",
    "    n=len(dimensions_list)-2\n",
    "        \n",
    "    table=np.array([[None for i in range(n+1)] for j in range(n+1)])\n",
    "    \n",
    "    result=M(dimensions_list,table=table,j=n)\n",
    "    print(result)\n",
    "    df=pd.DataFrame(table,columns=[i for i in range(1,len(table[0])+1)],index=range(1,len(table[0])+1))\n",
    "    print(\"columns names and indices represent the matrices\")\n",
    "    print(df)\n",
    "    brackets=get_brackets(df,e=n+1)\n",
    "    print(\"minimum number of multiplications is\",result)\n",
    "    return brackets"
   ]
  },
  {
   "cell_type": "code",
   "execution_count": 15,
   "metadata": {},
   "outputs": [
    {
     "name": "stdout",
     "output_type": "stream",
     "text": [
      "3100\n",
      "columns names and indices represent the matrices\n",
      "        1          2          3          4          5          6\n",
      "1  (0, 0)  (1400, 1)  (2240, 2)  (2632, 2)  (2600, 1)  (3100, 5)\n",
      "2    None     (0, 0)  (1680, 2)  (1792, 2)  (1600, 2)  (2600, 5)\n",
      "3    None       None     (0, 0)   (672, 3)   (900, 3)  (1250, 5)\n",
      "4    None       None       None     (0, 0)   (480, 4)  (1080, 5)\n",
      "5    None       None       None       None     (0, 0)   (400, 5)\n",
      "6    None       None       None       None       None     (0, 0)\n",
      "minimum number of multiplications is 3100\n",
      "((1 x (2 x (3 x (4 x 5)))) x 6)\n"
     ]
    }
   ],
   "source": [
    "print(Mat_chain_multi(dimensions_list=[10,20,7,12,8,5,10]))"
   ]
  },
  {
   "cell_type": "code",
   "execution_count": null,
   "metadata": {},
   "outputs": [],
   "source": []
  },
  {
   "cell_type": "code",
   "execution_count": null,
   "metadata": {},
   "outputs": [],
   "source": []
  }
 ],
 "metadata": {
  "kernelspec": {
   "display_name": "Python 3",
   "language": "python",
   "name": "python3"
  },
  "language_info": {
   "codemirror_mode": {
    "name": "ipython",
    "version": 3
   },
   "file_extension": ".py",
   "mimetype": "text/x-python",
   "name": "python",
   "nbconvert_exporter": "python",
   "pygments_lexer": "ipython3",
   "version": "3.8.5"
  }
 },
 "nbformat": 4,
 "nbformat_minor": 4
}
